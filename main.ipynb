{
  "cells": [
    {
      "cell_type": "code",
      "execution_count": 7,
      "metadata": {
        "colab": {
          "base_uri": "https://localhost:8080/"
        },
        "id": "i9cueyqUsDDH",
        "outputId": "5bde92e8-4965-4c78-b4e5-2a49b5ea2893"
      },
      "outputs": [
        {
          "name": "stdout",
          "output_type": "stream",
          "text": [
            "Looking in indexes: https://pypi.org/simple, https://us-python.pkg.dev/colab-wheels/public/simple/\n",
            "Requirement already satisfied: matplotlib in /usr/local/lib/python3.7/dist-packages (3.5.2)\n",
            "Requirement already satisfied: packaging>=20.0 in /usr/local/lib/python3.7/dist-packages (from matplotlib) (21.3)\n",
            "Requirement already satisfied: numpy>=1.17 in /usr/local/lib/python3.7/dist-packages (from matplotlib) (1.21.6)\n",
            "Requirement already satisfied: python-dateutil>=2.7 in /usr/local/lib/python3.7/dist-packages (from matplotlib) (2.8.2)\n",
            "Requirement already satisfied: pillow>=6.2.0 in /usr/local/lib/python3.7/dist-packages (from matplotlib) (7.1.2)\n",
            "Requirement already satisfied: kiwisolver>=1.0.1 in /usr/local/lib/python3.7/dist-packages (from matplotlib) (1.4.2)\n",
            "Requirement already satisfied: fonttools>=4.22.0 in /usr/local/lib/python3.7/dist-packages (from matplotlib) (4.33.3)\n",
            "Requirement already satisfied: pyparsing>=2.2.1 in /usr/local/lib/python3.7/dist-packages (from matplotlib) (3.0.9)\n",
            "Requirement already satisfied: cycler>=0.10 in /usr/local/lib/python3.7/dist-packages (from matplotlib) (0.11.0)\n",
            "Requirement already satisfied: typing-extensions in /usr/local/lib/python3.7/dist-packages (from kiwisolver>=1.0.1->matplotlib) (4.2.0)\n",
            "Requirement already satisfied: six>=1.5 in /usr/local/lib/python3.7/dist-packages (from python-dateutil>=2.7->matplotlib) (1.15.0)\n",
            "Looking in indexes: https://pypi.org/simple, https://us-python.pkg.dev/colab-wheels/public/simple/\n",
            "Collecting python-papi\n",
            "  Downloading python_papi-5.5.1.5.tar.gz (4.3 MB)\n",
            "\u001b[K     |████████████████████████████████| 4.3 MB 5.2 MB/s \n",
            "\u001b[?25hRequirement already satisfied: cffi>=1.0.0 in /usr/local/lib/python3.7/dist-packages (from python-papi) (1.15.0)\n",
            "Requirement already satisfied: pycparser in /usr/local/lib/python3.7/dist-packages (from cffi>=1.0.0->python-papi) (2.21)\n",
            "Building wheels for collected packages: python-papi\n",
            "  Building wheel for python-papi (setup.py) ... \u001b[?25l\u001b[?25hdone\n",
            "  Created wheel for python-papi: filename=python_papi-5.5.1.5-cp37-cp37m-linux_x86_64.whl size=863400 sha256=e74a3b389fc276ab640fb0dd6491cb05ae3a7c502a8b1c7a2f46894c3176492e\n",
            "  Stored in directory: /root/.cache/pip/wheels/26/66/17/7f376224b2466242ab2816ab96c682a3853c3664e43e391856\n",
            "Successfully built python-papi\n",
            "Installing collected packages: python-papi\n",
            "Successfully installed python-papi-5.5.1.5\n"
          ]
        }
      ],
      "source": [
        "!pip install --upgrade matplotlib"
      ]
    },
    {
      "cell_type": "code",
      "execution_count": 13,
      "metadata": {
        "id": "SAti2STTn8fl"
      },
      "outputs": [],
      "source": [
        "''' Imports, timing and visualization functions'''\n",
        "import numpy as np\n",
        "import scipy as sp\n",
        "import scipy.linalg\n",
        "import time\n",
        "import matplotlib.pyplot as plt\n",
        "import torch\n",
        "import copy\n",
        "\n",
        "# Testing\n",
        "colormap= {\n",
        "  'Naive Implementation': 'b',\n",
        "  'NumPy': 'g',\n",
        "  'SciPy': 'r',\n",
        "  'PyTorch': 'c',\n",
        "  'MATLAB': 'm'\n",
        "}\n",
        "\n",
        "def profile_fn(fn, inputs, iterations):\n",
        "  total_time = 0\n",
        "  for it in range(iterations):\n",
        "    start = time.time()\n",
        "    fn(*inputs)\n",
        "    total_time += time.time() - start\n",
        "  return total_time\n",
        "\n",
        "colormap= {\n",
        "  'Naive Implementation': 'b',\n",
        "  'NumPy': 'g',\n",
        "  'SciPy': 'r', \n",
        "  'PyTorch': 'c',\n",
        "  'MATLAB': 'm'\n",
        "}\n",
        "def plot_times(times, tools, title1, title2, flops, iterations):\n",
        "  for i, t in enumerate(times):\n",
        "    plt.bar(i, t, label=f'{tools[i]} ({iterations[i]} iterations)', color=colormap[tools[i]])\n",
        "  plt.ylabel('Time (seconds)')\n",
        "  plt.xlabel('Programming Tool')\n",
        "  plt.title(title1)\n",
        "  plt.legend()\n",
        "  plt.xticks([],[])\n",
        "  plt.show()\n",
        "  \n",
        "  for i, its in enumerate(iterations):\n",
        "    b = plt.bar(i, (its * flops) / times[i], label=f'{tools[i]}', color=colormap[tools[i]])\n",
        "    plt.bar_label(b, fmt='%.2E')\n",
        "  plt.ylabel('FLOPS per second')\n",
        "  plt.xlabel('Programming Tool')\n",
        "  plt.title(title2)\n",
        "  plt.legend()\n",
        "  plt.xticks([],[])\n",
        "  plt.show()"
      ]
    },
    {
      "cell_type": "code",
      "execution_count": 9,
      "metadata": {
        "colab": {
          "base_uri": "https://localhost:8080/",
          "height": 407
        },
        "id": "pmhNuju1oRx2",
        "outputId": "bea67367-1585-49a0-f728-a8b6d0702a52"
      },
      "outputs": [
        {
          "ename": "PapiNoEventError",
          "evalue": "ignored",
          "output_type": "error",
          "traceback": [
            "\u001b[0;31m---------------------------------------------------------------------------\u001b[0m",
            "\u001b[0;31mPapiNoEventError\u001b[0m                          Traceback (most recent call last)",
            "\u001b[0;32m<ipython-input-9-5e0e8acfac8e>\u001b[0m in \u001b[0;36m<module>\u001b[0;34m()\u001b[0m\n\u001b[1;32m     28\u001b[0m \u001b[0mB\u001b[0m \u001b[0;34m=\u001b[0m \u001b[0mnp\u001b[0m\u001b[0;34m.\u001b[0m\u001b[0mrandom\u001b[0m\u001b[0;34m.\u001b[0m\u001b[0mrand\u001b[0m\u001b[0;34m(\u001b[0m\u001b[0;36m1000\u001b[0m\u001b[0;34m,\u001b[0m \u001b[0;36m1000\u001b[0m\u001b[0;34m)\u001b[0m\u001b[0;34m\u001b[0m\u001b[0;34m\u001b[0m\u001b[0m\n\u001b[1;32m     29\u001b[0m \u001b[0;31m#times.append(profile_fn(mat_mul_naive, [A, B], 1))\u001b[0m\u001b[0;34m\u001b[0m\u001b[0;34m\u001b[0m\u001b[0;34m\u001b[0m\u001b[0m\n\u001b[0;32m---> 30\u001b[0;31m \u001b[0mtimes\u001b[0m\u001b[0;34m.\u001b[0m\u001b[0mappend\u001b[0m\u001b[0;34m(\u001b[0m\u001b[0mprofile_fn\u001b[0m\u001b[0;34m(\u001b[0m\u001b[0mmat_mul_np\u001b[0m\u001b[0;34m,\u001b[0m \u001b[0;34m[\u001b[0m\u001b[0mA\u001b[0m\u001b[0;34m,\u001b[0m \u001b[0mB\u001b[0m\u001b[0;34m]\u001b[0m\u001b[0;34m,\u001b[0m \u001b[0;36m100\u001b[0m\u001b[0;34m)\u001b[0m\u001b[0;34m)\u001b[0m\u001b[0;34m\u001b[0m\u001b[0;34m\u001b[0m\u001b[0m\n\u001b[0m\u001b[1;32m     31\u001b[0m \u001b[0mtimes\u001b[0m\u001b[0;34m.\u001b[0m\u001b[0mappend\u001b[0m\u001b[0;34m(\u001b[0m\u001b[0mprofile_fn\u001b[0m\u001b[0;34m(\u001b[0m\u001b[0mmat_mul_sp\u001b[0m\u001b[0;34m,\u001b[0m \u001b[0;34m[\u001b[0m\u001b[0mA\u001b[0m\u001b[0;34m,\u001b[0m \u001b[0mB\u001b[0m\u001b[0;34m]\u001b[0m\u001b[0;34m,\u001b[0m \u001b[0;36m100\u001b[0m\u001b[0;34m)\u001b[0m\u001b[0;34m)\u001b[0m\u001b[0;34m\u001b[0m\u001b[0;34m\u001b[0m\u001b[0m\n\u001b[1;32m     32\u001b[0m \u001b[0mC\u001b[0m \u001b[0;34m=\u001b[0m \u001b[0mtorch\u001b[0m\u001b[0;34m.\u001b[0m\u001b[0mrand\u001b[0m\u001b[0;34m(\u001b[0m\u001b[0;36m1000\u001b[0m\u001b[0;34m,\u001b[0m \u001b[0;36m1000\u001b[0m\u001b[0;34m)\u001b[0m\u001b[0;34m\u001b[0m\u001b[0;34m\u001b[0m\u001b[0m\n",
            "\u001b[0;32m<ipython-input-8-15303828dfe5>\u001b[0m in \u001b[0;36mprofile_fn\u001b[0;34m(fn, inputs, iterations)\u001b[0m\n\u001b[1;32m     22\u001b[0m   \u001b[0;32mfor\u001b[0m \u001b[0mit\u001b[0m \u001b[0;32min\u001b[0m \u001b[0mrange\u001b[0m\u001b[0;34m(\u001b[0m\u001b[0miterations\u001b[0m\u001b[0;34m)\u001b[0m\u001b[0;34m:\u001b[0m\u001b[0;34m\u001b[0m\u001b[0;34m\u001b[0m\u001b[0m\n\u001b[1;32m     23\u001b[0m     \u001b[0mstart\u001b[0m \u001b[0;34m=\u001b[0m \u001b[0mtime\u001b[0m\u001b[0;34m.\u001b[0m\u001b[0mtime\u001b[0m\u001b[0;34m(\u001b[0m\u001b[0;34m)\u001b[0m\u001b[0;34m\u001b[0m\u001b[0;34m\u001b[0m\u001b[0m\n\u001b[0;32m---> 24\u001b[0;31m     \u001b[0mhigh\u001b[0m\u001b[0;34m.\u001b[0m\u001b[0mstart_counters\u001b[0m\u001b[0;34m(\u001b[0m\u001b[0;34m[\u001b[0m\u001b[0mevents\u001b[0m\u001b[0;34m.\u001b[0m\u001b[0mPAPI_FP_OPS\u001b[0m\u001b[0;34m,\u001b[0m\u001b[0;34m]\u001b[0m\u001b[0;34m)\u001b[0m\u001b[0;34m\u001b[0m\u001b[0;34m\u001b[0m\u001b[0m\n\u001b[0m\u001b[1;32m     25\u001b[0m     \u001b[0mfn\u001b[0m\u001b[0;34m(\u001b[0m\u001b[0;34m*\u001b[0m\u001b[0minputs\u001b[0m\u001b[0;34m)\u001b[0m\u001b[0;34m\u001b[0m\u001b[0;34m\u001b[0m\u001b[0m\n\u001b[1;32m     26\u001b[0m     \u001b[0mx\u001b[0m\u001b[0;34m=\u001b[0m\u001b[0mhigh\u001b[0m\u001b[0;34m.\u001b[0m\u001b[0mstop_counters\u001b[0m\u001b[0;34m(\u001b[0m\u001b[0;34m)\u001b[0m\u001b[0;34m\u001b[0m\u001b[0;34m\u001b[0m\u001b[0m\n",
            "\u001b[0;32m/usr/local/lib/python3.7/dist-packages/pypapi/exceptions.py\u001b[0m in \u001b[0;36mpapi_error_wrapper\u001b[0;34m(*args, **kwargs)\u001b[0m\n\u001b[1;32m    168\u001b[0m             \u001b[0;32mfor\u001b[0m \u001b[0mname\u001b[0m\u001b[0;34m,\u001b[0m \u001b[0mobject_\u001b[0m \u001b[0;32min\u001b[0m \u001b[0mglobals\u001b[0m\u001b[0;34m(\u001b[0m\u001b[0;34m)\u001b[0m\u001b[0;34m.\u001b[0m\u001b[0mitems\u001b[0m\u001b[0;34m(\u001b[0m\u001b[0;34m)\u001b[0m\u001b[0;34m:\u001b[0m\u001b[0;34m\u001b[0m\u001b[0;34m\u001b[0m\u001b[0m\n\u001b[1;32m    169\u001b[0m                 \u001b[0;32mif\u001b[0m \u001b[0mobject_\u001b[0m \u001b[0;32mand\u001b[0m \u001b[0mhasattr\u001b[0m\u001b[0;34m(\u001b[0m\u001b[0mobject_\u001b[0m\u001b[0;34m,\u001b[0m \u001b[0;34m\"c_value\"\u001b[0m\u001b[0;34m)\u001b[0m \u001b[0;32mand\u001b[0m \u001b[0mobject_\u001b[0m\u001b[0;34m.\u001b[0m\u001b[0mc_value\u001b[0m \u001b[0;34m==\u001b[0m \u001b[0mrcode\u001b[0m\u001b[0;34m:\u001b[0m  \u001b[0;31m# noqa\u001b[0m\u001b[0;34m\u001b[0m\u001b[0;34m\u001b[0m\u001b[0m\n\u001b[0;32m--> 170\u001b[0;31m                     \u001b[0;32mraise\u001b[0m \u001b[0mobject_\u001b[0m\u001b[0;34m(\u001b[0m\u001b[0;34m)\u001b[0m\u001b[0;34m\u001b[0m\u001b[0;34m\u001b[0m\u001b[0m\n\u001b[0m\u001b[1;32m    171\u001b[0m             \u001b[0;32mraise\u001b[0m \u001b[0mPapiMiscellaneousError\u001b[0m\u001b[0;34m(\u001b[0m\u001b[0;34m)\u001b[0m\u001b[0;34m\u001b[0m\u001b[0;34m\u001b[0m\u001b[0m\n\u001b[1;32m    172\u001b[0m         \u001b[0;32mreturn\u001b[0m \u001b[0mrvalue\u001b[0m\u001b[0;34m\u001b[0m\u001b[0;34m\u001b[0m\u001b[0m\n",
            "\u001b[0;31mPapiNoEventError\u001b[0m: Event does not exist. (PAPI_ENOEVNT)"
          ]
        }
      ],
      "source": [
        "# 1. matrix multiplication\n",
        "def mat_mul_np(A, B):\n",
        "  C = np.matmul(A, B)\n",
        "  return C\n",
        "\n",
        "def mat_mul_sp(A, B):\n",
        "  C = sp.matmul(A, B)\n",
        "  return C\n",
        "\n",
        "def mat_mul_naive(A, B):\n",
        "  C = []\n",
        "  for i in range(len(A)):\n",
        "    C.append([])\n",
        "    for j in range(len(B[0])):\n",
        "      val = 0\n",
        "      for k in range(len(A[0])):\n",
        "        val += A[i][k] * B[k][j]  \n",
        "      C[i].append(val)\n",
        "  return C\n",
        "\n",
        "def mat_mul_torch(A, B):\n",
        "  C = torch.matmul(A, B)\n",
        "  return C\n",
        "\n",
        "# Timing and Visualization (mat mul)\n",
        "times = []\n",
        "A = np.random.rand(1000, 1000)\n",
        "B = np.random.rand(1000, 1000)\n",
        "times.append(profile_fn(mat_mul_naive, [A, B], 1))\n",
        "times.append(profile_fn(mat_mul_np, [A, B], 100))\n",
        "times.append(profile_fn(mat_mul_sp, [A, B], 100))\n",
        "C = torch.rand(1000, 1000)\n",
        "D = torch.rand(1000, 1000)\n",
        "times.append(profile_fn(mat_mul_torch, [C, D], 100))\n",
        "times.append(2.604540)\n",
        "plot_times(\n",
        "  times=times, \n",
        "  tools=['Naive Implementation', 'NumPy', 'SciPy', 'PyTorch', 'MATLAB'],\n",
        "  title1='Executiion Time (n=1000)', \n",
        "  title2='Efficiency (assuming $n^3$ FLOPS)',\n",
        "  flops=1000**3,\n",
        "  iterations=[1, 100, 100, 100, 100])\n"
      ]
    },
    {
      "cell_type": "code",
      "execution_count": null,
      "metadata": {
        "id": "bGp21ZgMvAyU"
      },
      "outputs": [],
      "source": [
        "# Timing and Visualization (matrix-vec product)\n",
        "times = []\n",
        "A = np.random.rand(1000, 1000)\n",
        "b = np.random.rand(1000, 1)\n",
        "times.append(profile_fn(mat_mul_naive, [A, b], 10))\n",
        "times.append(profile_fn(mat_mul_np, [A, b], 10000))\n",
        "times.append(profile_fn(mat_mul_sp, [A, b], 10000))\n",
        "C = torch.rand(1000, 1000)\n",
        "d = torch.rand(1000, 1)\n",
        "times.append(profile_fn(mat_mul_torch, [C, d], 10000))\n",
        "times.append(1.593010)\n",
        "plot_times(\n",
        "  times=times, \n",
        "  tools=['Naive Implementation', 'NumPy', 'SciPy', 'PyTorch', 'MATLAB'],\n",
        "  title1='Executiion Time (n=1000)', \n",
        "  title2='Efficiency (assuming $n^2$ FLOPS)',\n",
        "  flops=1000**2,\n",
        "  iterations=[10, 10000, 10000, 10000, 10000])"
      ]
    },
    {
      "cell_type": "code",
      "execution_count": 4,
      "metadata": {
        "colab": {
          "base_uri": "https://localhost:8080/",
          "height": 605
        },
        "id": "qCChb4K-olt_",
        "outputId": "0c393ab3-4b2f-4e43-fc8d-2455670cfe74"
      },
      "outputs": [
        {
          "name": "stderr",
          "output_type": "stream",
          "text": [
            "/usr/local/lib/python3.7/dist-packages/ipykernel_launcher.py:7: DeprecationWarning: scipy.dot is deprecated and will be removed in SciPy 2.0.0, use numpy.dot instead\n",
            "  import sys\n"
          ]
        },
        {
          "data": {
            "image/png": "[encoded data removed]",
            "text/plain": [
              "<Figure size 432x288 with 1 Axes>"
            ]
          },
          "metadata": {
            "needs_background": "light"
          },
          "output_type": "display_data"
        },
        {
          "data": {
            "image/png": "[encoded data removed]",
            "text/plain": [
              "<Figure size 432x288 with 1 Axes>"
            ]
          },
          "metadata": {
            "needs_background": "light"
          },
          "output_type": "display_data"
        }
      ],
      "source": [
        "# 2. dot product\n",
        "def dot_product_np(a, b):\n",
        "  c = np.dot(a, b)\n",
        "  return c\n",
        "\n",
        "def dot_product_sp(a, b):\n",
        "  c = sp.dot(a, b)\n",
        "  return c\n",
        "\n",
        "def dot_product_torch(a, b):\n",
        "  c = torch.dot(a, b)\n",
        "  return c\n",
        "\n",
        "# Timing and Visualization\n",
        "times = []\n",
        "a = np.random.rand(1, 1000)\n",
        "b = np.random.rand(1000, 1)\n",
        "times.append(profile_fn(mat_mul_naive, [a, b], 1000))\n",
        "times.append(profile_fn(dot_product_np, [a, b], 100000))\n",
        "times.append(profile_fn(dot_product_sp, [a, b], 100000))\n",
        "c = torch.rand(1000)\n",
        "d = torch.rand(1000)\n",
        "times.append(profile_fn(dot_product_torch, [c, d], 100000))\n",
        "times.append(50.567017)\n",
        "plot_times(\n",
        "  times=times, \n",
        "  tools=['Naive Implementation', 'NumPy', 'SciPy', 'PyTorch', 'MATLAB'],\n",
        "  title1='Executiion Time (n=1000)', \n",
        "  title2='Efficiency (assuming $n$ FLOPS)',\n",
        "  flops=1000,\n",
        "  iterations=[1000, 100000, 100000, 100000, 100000])"
      ]
    },
    {
      "cell_type": "code",
      "execution_count": 5,
      "metadata": {
        "colab": {
          "base_uri": "https://localhost:8080/",
          "height": 551
        },
        "id": "6uGXdp1xoNgd",
        "outputId": "96627041-82a0-4c85-b759-da8175712007"
      },
      "outputs": [
        {
          "data": {
            "image/png": "[encoded data removed]",
            "text/plain": [
              "<Figure size 432x288 with 1 Axes>"
            ]
          },
          "metadata": {
            "needs_background": "light"
          },
          "output_type": "display_data"
        },
        {
          "data": {
            "image/png": "[encoded data removed]",
            "text/plain": [
              "<Figure size 432x288 with 1 Axes>"
            ]
          },
          "metadata": {
            "needs_background": "light"
          },
          "output_type": "display_data"
        }
      ],
      "source": [
        "# 3. element wise operations\n",
        "def element_wise_ops_naive(A, B):\n",
        "  for i in range(len(A)):\n",
        "    for j in range(len(A[0])):\n",
        "      A[i][j] = (A[i][j] + B[i][j]) * B[i][j]\n",
        "  return A  \n",
        "\n",
        "def element_wise_ops_naive(A, B):\n",
        "  for i in range(len(A)):\n",
        "    for j in range(len(A[0])):\n",
        "      A[i][j] = (A[i][j] + B[i][j]) * B[i][j]\n",
        "  return A  \n",
        "\n",
        "def element_wise_ops_np(A, B):\n",
        "  A = (A + B) * B\n",
        "  return A\n",
        "\n",
        "def element_wise_ops_torch(A, B):\n",
        "  A = torch.mul(torch.add(A, B), B)\n",
        "  return A\n",
        "\n",
        "# Timing and Visualization\n",
        "times = []\n",
        "A = np.random.rand(1000, 1000)\n",
        "B = np.random.rand(1000, 1000)\n",
        "times.append(profile_fn(element_wise_ops_naive, [np.copy(A), np.copy(B)], 10))\n",
        "times.append(profile_fn(element_wise_ops_np, [A, B], 1000))\n",
        "C = torch.rand(1000, 1000)\n",
        "D = torch.rand(1000, 1000)\n",
        "times.append(profile_fn(element_wise_ops_torch, [C, D], 1000))\n",
        "times.append(0.568235)\n",
        "plot_times(\n",
        "  times=times, \n",
        "  tools=['Naive Implementation', 'NumPy', 'PyTorch', 'MATLAB'],\n",
        "  title1='Executiion Time (n=1000)', \n",
        "  title2='Efficiency (assuming $n^2$ FLOPS)',\n",
        "  flops=1000**2,\n",
        "  iterations=[10, 1000, 1000, 1000])"
      ]
    },
    {
      "cell_type": "code",
      "execution_count": null,
      "metadata": {
        "id": "DFGWV08_oy6N"
      },
      "outputs": [],
      "source": [
        "# 4. LU decomp\n",
        "def LU_decomp_naive(A):\n",
        "  n = len(A)\n",
        "  U = copy.deepcopy(A)\n",
        "  L = []\n",
        "  for i in range(n):\n",
        "    L.append([])\n",
        "    for j in range(n):\n",
        "      if i == j:\n",
        "        L[-1].append(1)\n",
        "      else:\n",
        "        L[-1].append(0)\n",
        "  for k in range(n-1):\n",
        "    for j in range(k+1, n):\n",
        "      L[j][k] = U[j][k]/U[k][k]\n",
        "      for i in range(k, n):\n",
        "        U[j][i] -= L[j][k] * U[k][i]\n",
        "  return L, U\n",
        "\n",
        "def LU_decomp_np(A):\n",
        "  n = A.shape[0]\n",
        "  U = A.copy()\n",
        "  L = np.identity(n)\n",
        "  for k in range(n-1):\n",
        "    for j in range(k+1, n):\n",
        "      L[j, k] = U[j, k]/U[k,k]\n",
        "      U[j, k:n] -= L[j, k] * U[k, k:n]\n",
        "  return L, U\n",
        "\n",
        "def LU_decomp_sp(A):\n",
        "  P, L, U = scipy.linalg.lu(A)\n",
        "  return P, L, U\n",
        "\n",
        "def LU_decomp_torch(A):\n",
        "  A_LU, pivots = torch.lu(A)\n",
        "  return A_LU, pivots\n",
        "\n",
        "\n",
        "# Timing and Visualization\n",
        "times = []\n",
        "A = np.random.rand(1000, 1000)\n",
        "times.append(profile_fn(LU_decomp_naive, [A], 1))\n",
        "times.append(profile_fn(LU_decomp_np, [A], 10))\n",
        "times.append(profile_fn(LU_decomp_sp, [A], 10))\n",
        "B = torch.rand(1000, 1000)\n",
        "times.append(profile_fn(LU_decomp_torch, [B], 10))\n",
        "times.append(0.138869)\n",
        "plot_times(\n",
        "  times=times, \n",
        "  tools=['Naive Implementation', 'NumPy', 'SciPy', 'PyTorch', 'MATLAB'],\n",
        "  title1='Executiion Time (n=1000)', \n",
        "  title2='Efficiency (assuming $n^3$ FLOPS)',\n",
        "  flops=1000**3,\n",
        "  iterations=[1, 10, 10, 10, 10])"
      ]
    },
    {
      "cell_type": "code",
      "execution_count": null,
      "metadata": {
        "id": "m2nASMmdo3rJ"
      },
      "outputs": [],
      "source": [
        "# 5. QR decomp\n",
        "def QR_decomp_naive(A):\n",
        "  n = len(A)\n",
        "  Q = np.zeros((n, n)).tolist()\n",
        "  R = np.zeros((n, n)).tolist()\n",
        "  for k in range(n):\n",
        "    a_k = [A[j][k] for j in range(n)]\n",
        "    a_k_t = [el for el in a_k]\n",
        "    for i in range(k):\n",
        "      q_i = [Q[j][i] for j in range(n)]\n",
        "      R[i][k] = mat_mul_naive([a_k], [[el] for el in q_i])[0][0]\n",
        "      for j in range(n):\n",
        "        a_k_t[j] -= q_i[j] * R[i][k]\n",
        "    for el in a_k_t:\n",
        "      R[k][k] += el**2\n",
        "    R[k][k] = R[k][k]**(.5)\n",
        "    for j in range(n):\n",
        "      Q[j][k] = a_k_t[j] / R[k][k]\n",
        "  return Q, R\n",
        "\n",
        "def QR_decomp_np(A):\n",
        "  Q, R = np.linalg.qr(A)\n",
        "  return Q, R\n",
        "\n",
        "def QR_decomp_sp(A):\n",
        "  q, r = sp.linalg.qr(A)\n",
        "  return q, r\n",
        "\n",
        "def QR_decomp_torch(A):\n",
        "  q, r = torch.qr(A)\n",
        "  return q, r\n",
        "\n",
        "# Timing and Visualization\n",
        "times = []\n",
        "A = np.random.rand(1000, 1000)\n",
        "times.append(profile_fn(QR_decomp_naive, [A], 1))\n",
        "times.append(profile_fn(QR_decomp_np, [A], 10))\n",
        "times.append(profile_fn(QR_decomp_sp, [A], 10))\n",
        "B = torch.rand(1000, 1000)\n",
        "times.append(profile_fn(QR_decomp_torch, [B], 10))\n",
        "times.append(0.562584)\n",
        "plot_times(\n",
        "  times=times, \n",
        "  tools=['Naive Implementation', 'NumPy', 'SciPy', 'PyTorch', 'MATLAB'],\n",
        "  title1='Executiion Time (n=1000)', \n",
        "  title2='Efficiency (assuming $n^3$ FLOPS)',\n",
        "  flops=1000**3,\n",
        "  iterations=[1, 10, 10, 10, 10])\n"
      ]
    },
    {
      "cell_type": "code",
      "execution_count": null,
      "metadata": {
        "id": "xM6mHjTYo6Ki"
      },
      "outputs": [],
      "source": [
        "# 6. Eigen Decomp\n",
        "def eig_np(A):\n",
        "  vals, vecs = np.linalg.eig(A)\n",
        "  return vals, vecs\n",
        "\n",
        "def eig_sp(A):\n",
        "  vals, vecs = np.linalg.eig(A)\n",
        "  return vals, vecs\n",
        "\n",
        "def eig_torch(A):\n",
        "  vals, vecs = torch.eig(A)\n",
        "  return vals, vecs\n",
        "\n",
        "\n",
        "# Timing and Visualization\n",
        "times = []\n",
        "A = np.random.rand(1000, 1000)\n",
        "A = A @ A.transpose()\n",
        "times.append(profile_fn(eig_np, [A], 10))\n",
        "times.append(profile_fn(eig_sp, [A], 10))\n",
        "B = torch.rand(1000, 1000)\n",
        "B = torch.matmul(B, torch.transpose(B, 0, 1))\n",
        "times.append(profile_fn(eig_torch, [B], 10))\n",
        "times.append(9.667445)\n",
        "plot_times(\n",
        "  times=times, \n",
        "  tools=['NumPy', 'SciPy', 'PyTorch', 'MATLAB'],\n",
        "  title1='Executiion Time (n=1000)', \n",
        "  title2='Efficiency (assuming $n^3$ FLOPS)',\n",
        "  flops=1000**3,\n",
        "  iterations=[10, 10, 10, 10])"
      ]
    }
  ],
  "metadata": {
    "colab": {
      "collapsed_sections": [],
      "name": "DSC291_main.ipynb",
      "provenance": []
    },
    "kernelspec": {
      "display_name": "Python 3",
      "name": "python3"
    },
    "language_info": {
      "name": "python"
    }
  },
  "nbformat": 4,
  "nbformat_minor": 0
}
