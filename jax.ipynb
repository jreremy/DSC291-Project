{
  "nbformat": 4,
  "nbformat_minor": 0,
  "metadata": {
    "colab": {
      "name": "DSC291.ipynb",
      "provenance": [],
      "collapsed_sections": []
    },
    "kernelspec": {
      "name": "python3",
      "display_name": "Python 3"
    },
    "language_info": {
      "name": "python"
    },
    "accelerator": "TPU"
  },
  "cells": [
    {
      "cell_type": "code",
      "execution_count": 22,
      "metadata": {
        "id": "KVuBSDnlX_W0"
      },
      "outputs": [],
      "source": [
        "import jax.tools.colab_tpu\n",
        "jax.tools.colab_tpu.setup_tpu()"
      ]
    },
    {
      "cell_type": "code",
      "source": [
        "import jax \n",
        "import jax.numpy as jnp\n",
        "from jax import random\n",
        "import numpy as np\n",
        "import scipy as sp"
      ],
      "metadata": {
        "id": "0FtY6H8aai-h"
      },
      "execution_count": 23,
      "outputs": []
    },
    {
      "cell_type": "code",
      "source": [
        "print('LU Decomp, SciPy ====')\n",
        "A = np.random.rand(1000, 1000)\n",
        "%timeit sp.linalg.lu(A)\n",
        "\n",
        "print('LU Decomp, Jax (TPU) ====')\n",
        "key = random.PRNGKey(42)\n",
        "A = random.normal(key, (1000,1000))\n",
        "%timeit jax.scipy.linalg.lu(A)"
      ],
      "metadata": {
        "colab": {
          "base_uri": "https://localhost:8080/"
        },
        "id": "S2HypH4Wa_aO",
        "outputId": "6e877f19-b9cd-4876-c13c-379f35a1bf03"
      },
      "execution_count": 29,
      "outputs": [
        {
          "output_type": "stream",
          "name": "stdout",
          "text": [
            "LU Decomp, Numpy ====\n",
            "10 loops, best of 5: 76.5 ms per loop\n",
            "LU Decomp, Jax (TPU) ====\n",
            "100 loops, best of 5: 5.76 ms per loop\n"
          ]
        }
      ]
    },
    {
      "cell_type": "code",
      "source": [
        "print('QR Decomp, Numpy ====')\n",
        "A = np.random.rand(1000, 1000)\n",
        "%timeit np.linalg.qr(A)\n",
        "\n",
        "print('QR Decomp, Jax (TPU) ====')\n",
        "A = random.normal(key, (1000,1000))\n",
        "%timeit jnp.linalg.qr(A)"
      ],
      "metadata": {
        "colab": {
          "base_uri": "https://localhost:8080/"
        },
        "id": "3aDB4g1IfMvh",
        "outputId": "214fcfb1-693c-4a10-f62b-a71961449c07"
      },
      "execution_count": 25,
      "outputs": [
        {
          "output_type": "stream",
          "name": "stdout",
          "text": [
            "QR Decomp, Numpy ====\n",
            "1 loop, best of 5: 338 ms per loop\n",
            "QR Decomp, Jax (TPU) ====\n",
            "100 loops, best of 5: 6.01 ms per loop\n"
          ]
        }
      ]
    },
    {
      "cell_type": "code",
      "source": [
        "print('Matrix Multiplication, Numpy ====')\n",
        "A = np.random.rand(3000, 3000)\n",
        "B = np.random.rand(3000, 3000)\n",
        "%timeit np.dot(A, B)\n",
        "\n",
        "print('Matrix Multiplication, Jax (TPU) ====')\n",
        "A = random.normal(key, (3000,3000))\n",
        "B = random.normal(key, (3000,3000))\n",
        "A_jax = jax.device_put(A)\n",
        "B_jax = jax.device_put(B)\n",
        "jnp.dot(A_jax, B_jax).block_until_ready()\n",
        "%timeit jnp.dot(A_jax, B_jax).block_until_ready()"
      ],
      "metadata": {
        "colab": {
          "base_uri": "https://localhost:8080/"
        },
        "id": "cv_W9aDOfo2d",
        "outputId": "4e618f55-ec66-40d5-a4f1-2257858c6bbc"
      },
      "execution_count": 26,
      "outputs": [
        {
          "output_type": "stream",
          "name": "stdout",
          "text": [
            "Matrix Multiplication, Numpy ====\n",
            "1 loop, best of 5: 2.73 s per loop\n",
            "Matrix Multiplication, Jax (TPU) ====\n",
            "100 loops, best of 5: 4.47 ms per loop\n"
          ]
        }
      ]
    },
    {
      "cell_type": "code",
      "source": [
        "def element_wise_ops(A, B):\n",
        "  return (A * B) + B\n",
        "\n",
        "print('Element-wise Operations, Numpy ====')\n",
        "A = np.random.rand(1000, 1000)\n",
        "B = np.random.rand(1000, 1000)\n",
        "%timeit element_wise_ops(A, B)\n",
        "\n",
        "print('Element-wise Operations, Jax (TPU) ====')\n",
        "A = random.normal(key, (1000, 1000))\n",
        "B = random.normal(key, (1000, 1000))\n",
        "A_jax = jax.device_put(A)\n",
        "B_jax = jax.device_put(B)\n",
        "element_wise_jit = jax.jit(element_wise_ops)\n",
        "%timeit element_wise_jit(A_jax, B_jax)"
      ],
      "metadata": {
        "colab": {
          "base_uri": "https://localhost:8080/"
        },
        "id": "QSz9GXVZibzX",
        "outputId": "bfab937a-f0c3-425b-bfee-06bba9412bed"
      },
      "execution_count": 28,
      "outputs": [
        {
          "output_type": "stream",
          "name": "stdout",
          "text": [
            "Element-wise Operations, Numpy ====\n",
            "100 loops, best of 5: 3.45 ms per loop\n",
            "Element-wise Operations, Jax (TPU) ====\n",
            "The slowest run took 33.16 times longer than the fastest. This could mean that an intermediate result is being cached.\n",
            "1000 loops, best of 5: 1.82 ms per loop\n"
          ]
        }
      ]
    }
  ]
}